{
  "nbformat": 4,
  "nbformat_minor": 0,
  "metadata": {
    "colab": {
      "provenance": [],
      "authorship_tag": "ABX9TyM/KTiFDiQPP20PyPRerH0H",
      "include_colab_link": true
    },
    "kernelspec": {
      "name": "python3",
      "display_name": "Python 3"
    },
    "language_info": {
      "name": "python"
    }
  },
  "cells": [
    {
      "cell_type": "markdown",
      "metadata": {
        "id": "view-in-github",
        "colab_type": "text"
      },
      "source": [
        "<a href=\"https://colab.research.google.com/github/oscar-nama/IDS/blob/main/AI/HW2/Problem1.ipynb\" target=\"_parent\"><img src=\"https://colab.research.google.com/assets/colab-badge.svg\" alt=\"Open In Colab\"/></a>"
      ]
    },
    {
      "cell_type": "code",
      "execution_count": 51,
      "metadata": {
        "id": "RKp2P7KOZrgt"
      },
      "outputs": [],
      "source": [
        "from collections import deque\n",
        "\n",
        "# Start the graph search from root using a doubly-ended queue\n",
        "\n",
        "def FindFriends(G, User, K):\n",
        "\n",
        "    # deque is list-like container with fast appends and pops on either end\n",
        "    visited = set()\n",
        "    queue = deque([(User, 0)]) # Store (node, depth) tuples\n",
        "    visited.add(User)\n",
        "\n",
        "    # Keep exploring as long as the queue is not empty\n",
        "    while queue:\n",
        "\n",
        "        # Dequeue a vertex and its depth from queue\n",
        "        vertex, depth = queue.popleft()\n",
        "        if depth == K:\n",
        "          print(vertex, end=\" \")\n",
        "\n",
        "        # If the current depth is less than K, explore neighbors\n",
        "        if depth < K:\n",
        "            # If not visited, mark it as visited, and enqueue it with incremented depth\n",
        "            for neighbor in G[vertex]:\n",
        "                if neighbor not in visited:\n",
        "                    visited.add(neighbor)\n",
        "                    queue.append((neighbor, depth + 1))"
      ]
    },
    {
      "cell_type": "code",
      "source": [
        "friends = {\n",
        "    'Richard': [],\n",
        "    'Bob': ['Rob', 'Pam','Richard'],\n",
        "    'Rob': [],\n",
        "    'Pam':['Peter','Roger'],\n",
        "    'Peter':['Amy'],\n",
        "    'Amy':[],\n",
        "    'Roger':['Anna'],\n",
        "    'Anna':[]\n",
        "}"
      ],
      "metadata": {
        "id": "G5H6zBdPb7_i"
      },
      "execution_count": 52,
      "outputs": []
    },
    {
      "cell_type": "code",
      "source": [
        "FindFriends(friends, 'Bob', 3)"
      ],
      "metadata": {
        "colab": {
          "base_uri": "https://localhost:8080/"
        },
        "id": "YXcEUjOhdMQG",
        "outputId": "ab5610bf-9a1e-4fef-b460-de3645448dab"
      },
      "execution_count": 56,
      "outputs": [
        {
          "output_type": "stream",
          "name": "stdout",
          "text": [
            "Amy Anna "
          ]
        }
      ]
    }
  ]
}