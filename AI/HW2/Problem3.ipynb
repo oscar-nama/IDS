{
  "nbformat": 4,
  "nbformat_minor": 0,
  "metadata": {
    "colab": {
      "provenance": [],
      "authorship_tag": "ABX9TyPbbZerRfMD32HvHDCPSfeU",
      "include_colab_link": true
    },
    "kernelspec": {
      "name": "python3",
      "display_name": "Python 3"
    },
    "language_info": {
      "name": "python"
    }
  },
  "cells": [
    {
      "cell_type": "markdown",
      "metadata": {
        "id": "view-in-github",
        "colab_type": "text"
      },
      "source": [
        "<a href=\"https://colab.research.google.com/github/oscar-nama/IDS/blob/main/AI/HW2/Problem3.ipynb\" target=\"_parent\"><img src=\"https://colab.research.google.com/assets/colab-badge.svg\" alt=\"Open In Colab\"/></a>"
      ]
    },
    {
      "cell_type": "code",
      "execution_count": 19,
      "metadata": {
        "id": "75C6kor50VDg"
      },
      "outputs": [],
      "source": [
        "from collections import deque\n",
        "\n",
        "# Start the graph search from root using a doubly-ended queue\n",
        "# both these combinations work for DFS: append/pop and appendleft/popleft\n",
        "\n",
        "def mazeRunner(graph, start, end):\n",
        "\n",
        "    # deque is list-like container with fast appends and pops on either end\n",
        "    visited, queue = set(), deque([start])\n",
        "    visited.add(start)\n",
        "\n",
        "    # Keep exploring as long as the queue is not empty\n",
        "    while queue:\n",
        "\n",
        "        # Dequeue a vertex from queue\n",
        "        vertex = queue.pop()\n",
        "        print(vertex, end=\" \")\n",
        "\n",
        "        # Check if the current vertex is the end node\n",
        "        if vertex == end:\n",
        "            return \"success\"\n",
        "\n",
        "        # If not visited, mark the node as visited and enqueue it\n",
        "        # Use reversed() to enforce left-to-right ordering\n",
        "\n",
        "        for neighbor in reversed(graph[vertex]):\n",
        "            if neighbor not in visited:\n",
        "                visited.add(neighbor)\n",
        "                queue.append(neighbor)\n",
        "\n",
        "    # If the loop finishes without finding the end node, return a failure message\n",
        "    return \"failure\""
      ]
    },
    {
      "cell_type": "code",
      "source": [
        "maze1 = {\n",
        "    '1': ['2','6'],\n",
        "    '2': ['1','3'],\n",
        "    '3': ['2','8'],\n",
        "    '4': ['5','9'],\n",
        "    '5': ['4','10'],\n",
        "    '6': ['1','11'],\n",
        "    '7': ['12'],\n",
        "    '8': ['3','9'],\n",
        "    '9': ['4','8','14'],\n",
        "    '10': ['5','15'],\n",
        "    '11': ['6','12'],\n",
        "    '12': ['7'],\n",
        "    '13': ['14','18'],\n",
        "    '14': ['9','13'],\n",
        "    '15': ['10','20'],\n",
        "    '16': ['17','21'],\n",
        "    '17': ['16','22'],\n",
        "    '18': ['13'],\n",
        "    '19': ['20','24'],\n",
        "    '20': ['15','19'],\n",
        "    '21': ['16','26'],\n",
        "    '22': ['17','23'],\n",
        "    '23': ['22','24','28'],\n",
        "    '24': ['19','23','25'],\n",
        "    '25': ['24','30'],\n",
        "    '26': ['21','27'],\n",
        "    '27': ['26','32'],\n",
        "    '28': ['23','29'],\n",
        "    '29': ['28','34'],\n",
        "    '30': ['25'],\n",
        "    '31': ['32','36'],\n",
        "    '32': ['27','31','33'],\n",
        "    '33': ['32','38'],\n",
        "    '34': ['29','40'],\n",
        "    '35': ['40'],\n",
        "    '36': ['31','41'],\n",
        "    '37': ['38'],\n",
        "    '38': ['33','37'],\n",
        "    '39': ['40','44'],\n",
        "    '40': ['35','39','45'],\n",
        "    '41': ['36','46'],\n",
        "    '42': ['43','47'],\n",
        "    '43': ['42','44'],\n",
        "    '44': ['39','43','49'],\n",
        "    '45': ['40','50'],\n",
        "    '46': ['41','47'],\n",
        "    '47': ['42','46'],\n",
        "    '48': ['49'],\n",
        "    '49': ['44'],\n",
        "    '50': ['45']\n",
        "}"
      ],
      "metadata": {
        "id": "h125ZGKd1TEe"
      },
      "execution_count": 20,
      "outputs": []
    },
    {
      "cell_type": "code",
      "source": [
        "maze2 = {\n",
        "    '1': ['2','6'],\n",
        "    '2': ['1','3'],\n",
        "    '3': ['2','8'],\n",
        "    '4': ['5','9'],\n",
        "    '5': ['4','10'],\n",
        "    '6': ['1','11'],\n",
        "    '7': ['12'],\n",
        "    '8': ['3'],\n",
        "    '9': ['4','8','14'],\n",
        "    '10': ['5','15'],\n",
        "    '11': ['6','12'],\n",
        "    '12': ['7'],\n",
        "    '13': ['14','18'],\n",
        "    '14': ['9','13'],\n",
        "    '15': ['10','20'],\n",
        "    '16': ['17','21'],\n",
        "    '17': ['16','22'],\n",
        "    '18': ['13'],\n",
        "    '19': ['20','24'],\n",
        "    '20': ['15','19'],\n",
        "    '21': ['16','26'],\n",
        "    '22': ['17','23'],\n",
        "    '23': ['22','24','28'],\n",
        "    '24': ['19','23','25'],\n",
        "    '25': ['24','30'],\n",
        "    '26': ['21','27'],\n",
        "    '27': ['26','32'],\n",
        "    '28': ['23','29'],\n",
        "    '29': ['28','34'],\n",
        "    '30': ['25'],\n",
        "    '31': ['32','36'],\n",
        "    '32': ['27','31','33'],\n",
        "    '33': ['32','38'],\n",
        "    '34': ['29','40'],\n",
        "    '35': ['40'],\n",
        "    '36': ['31','41'],\n",
        "    '37': ['38'],\n",
        "    '38': ['33','37'],\n",
        "    '39': ['40','44'],\n",
        "    '40': ['35','39','45'],\n",
        "    '41': ['36','46'],\n",
        "    '42': ['43','47'],\n",
        "    '43': ['42','44'],\n",
        "    '44': ['39','43','49'],\n",
        "    '45': ['40','50'],\n",
        "    '46': ['41','47'],\n",
        "    '47': ['42','46'],\n",
        "    '48': ['49'],\n",
        "    '49': ['44'],\n",
        "    '50': ['45']\n",
        "}"
      ],
      "metadata": {
        "id": "3UMywHxgAOpR"
      },
      "execution_count": 21,
      "outputs": []
    },
    {
      "cell_type": "code",
      "source": [
        "mazeRunner(maze1, '1', '50') # success\n",
        "print()\n",
        "print()\n",
        "mazeRunner(maze2, '1','50') # fail"
      ],
      "metadata": {
        "colab": {
          "base_uri": "https://localhost:8080/",
          "height": 87
        },
        "id": "ps5WrJRy9Ba3",
        "outputId": "b8452ffa-d441-4688-c23d-069a28d25931"
      },
      "execution_count": 23,
      "outputs": [
        {
          "output_type": "stream",
          "name": "stdout",
          "text": [
            "1 2 3 8 9 4 5 10 15 20 19 24 23 22 17 16 21 26 27 32 31 36 41 46 47 42 43 44 39 40 35 45 50 \n",
            "\n",
            "1 2 3 8 6 11 12 7 "
          ]
        },
        {
          "output_type": "execute_result",
          "data": {
            "text/plain": [
              "'failure'"
            ],
            "application/vnd.google.colaboratory.intrinsic+json": {
              "type": "string"
            }
          },
          "metadata": {},
          "execution_count": 23
        }
      ]
    }
  ]
}