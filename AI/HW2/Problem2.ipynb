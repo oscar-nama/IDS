{
  "nbformat": 4,
  "nbformat_minor": 0,
  "metadata": {
    "colab": {
      "provenance": [],
      "authorship_tag": "ABX9TyPeSlUU8A+CiZauykyJzw0E",
      "include_colab_link": true
    },
    "kernelspec": {
      "name": "python3",
      "display_name": "Python 3"
    },
    "language_info": {
      "name": "python"
    }
  },
  "cells": [
    {
      "cell_type": "markdown",
      "metadata": {
        "id": "view-in-github",
        "colab_type": "text"
      },
      "source": [
        "<a href=\"https://colab.research.google.com/github/oscar-nama/IDS/blob/main/AI/HW2/Problem2.ipynb\" target=\"_parent\"><img src=\"https://colab.research.google.com/assets/colab-badge.svg\" alt=\"Open In Colab\"/></a>"
      ]
    },
    {
      "cell_type": "code",
      "execution_count": 7,
      "metadata": {
        "id": "yajD5PR8hHwC"
      },
      "outputs": [],
      "source": [
        "from collections import deque\n",
        "\n",
        "# Start the graph search from root using a doubly-ended queue\n",
        "\n",
        "def PotentialFriends(G, root):\n",
        "\n",
        "    # deque is list-like container with fast appends and pops on either end\n",
        "    visited = set()\n",
        "    queue = deque([(root, 0)]) # (node, depth)\n",
        "    visited.add(root)\n",
        "\n",
        "    # Keep exploring as long as the queue is not empty\n",
        "    while queue:\n",
        "\n",
        "        # Dequeue a vertex from queue\n",
        "        vertex, depth = queue.popleft()\n",
        "        if depth == 2:\n",
        "          print(vertex, end=\" \")\n",
        "\n",
        "        # If not visited, mark it as visited, and enqueue it\n",
        "        if depth < 2:\n",
        "          for neighbor in G[vertex]:\n",
        "            if neighbor not in visited:\n",
        "                visited.add(neighbor)\n",
        "                queue.append((neighbor, depth+1))"
      ]
    },
    {
      "cell_type": "code",
      "source": [
        "friends = {\n",
        "    \"Adam\": [\"Maria\"],\n",
        "    \"Maria\": [\"Adam\", \"Sophia\", \"Maya\", \"David\"],\n",
        "    \"David\": [\"Maria\", \"Maya\"],\n",
        "    \"Maya\": [\"Maria\", \"Sophia\", \"David\"],\n",
        "    \"Sophia\": [\"Maria\", \"Maya\"]\n",
        "}"
      ],
      "metadata": {
        "id": "UG4JBlo4ij8C"
      },
      "execution_count": 8,
      "outputs": []
    },
    {
      "cell_type": "code",
      "source": [
        "PotentialFriends(friends, \"Adam\")"
      ],
      "metadata": {
        "colab": {
          "base_uri": "https://localhost:8080/"
        },
        "id": "622oVmKcjHHT",
        "outputId": "e19e65e0-0b67-4467-db53-bfbf8fb10d03"
      },
      "execution_count": 12,
      "outputs": [
        {
          "output_type": "stream",
          "name": "stdout",
          "text": [
            "Sophia Maya David "
          ]
        }
      ]
    }
  ]
}